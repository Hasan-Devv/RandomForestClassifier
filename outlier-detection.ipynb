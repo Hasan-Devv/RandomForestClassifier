{
 "cells": [
  {
   "cell_type": "code",
   "execution_count": 1,
   "id": "ec1b84ce",
   "metadata": {
    "_cell_guid": "b1076dfc-b9ad-4769-8c92-a6c4dae69d19",
    "_uuid": "8f2839f25d086af736a60e9eeb907d3b93b6e0e5",
    "execution": {
     "iopub.execute_input": "2024-07-07T16:04:06.314526Z",
     "iopub.status.busy": "2024-07-07T16:04:06.314098Z",
     "iopub.status.idle": "2024-07-07T16:04:07.383732Z",
     "shell.execute_reply": "2024-07-07T16:04:07.382379Z"
    },
    "papermill": {
     "duration": 1.079982,
     "end_time": "2024-07-07T16:04:07.387256",
     "exception": false,
     "start_time": "2024-07-07T16:04:06.307274",
     "status": "completed"
    },
    "tags": []
   },
   "outputs": [],
   "source": [
    "# This Python 3 environment comes with many helpful analytics libraries installed\n",
    "# It is defined by the kaggle/python Docker image: https://github.com/kaggle/docker-python\n",
    "# For example, here's several helpful packages to load\n",
    "\n",
    "import numpy as np # linear algebra\n",
    "import pandas as pd # data processing, CSV file I/O (e.g. pd.read_csv)\n",
    "\n",
    "# Input data files are available in the read-only \"../input/\" directory\n",
    "# For example, running this (by clicking run or pressing Shift+Enter) will list all files under the input directory\n",
    "\n",
    "import os\n",
    "for dirname, _, filenames in os.walk('/kaggle/input'):\n",
    "    for filename in filenames:\n",
    "        print(os.path.join(dirname, filename))\n",
    "\n",
    "# You can write up to 20GB to the current directory (/kaggle/working/) that gets preserved as output when you create a version using \"Save & Run All\" \n",
    "# You can also write temporary files to /kaggle/temp/, but they won't be saved outside of the current session"
   ]
  },
  {
   "cell_type": "code",
   "execution_count": 2,
   "id": "2f67e13f",
   "metadata": {
    "execution": {
     "iopub.execute_input": "2024-07-07T16:04:07.397682Z",
     "iopub.status.busy": "2024-07-07T16:04:07.397157Z",
     "iopub.status.idle": "2024-07-07T16:04:07.403643Z",
     "shell.execute_reply": "2024-07-07T16:04:07.402331Z"
    },
    "papermill": {
     "duration": 0.015109,
     "end_time": "2024-07-07T16:04:07.406705",
     "exception": false,
     "start_time": "2024-07-07T16:04:07.391596",
     "status": "completed"
    },
    "tags": []
   },
   "outputs": [],
   "source": [
    "# data observations or data points\n",
    "\n",
    "data_1 = [170,123, 167, 165, 160, 180, 175, 179, 210, 182,168, 170,169, 350]"
   ]
  },
  {
   "cell_type": "code",
   "execution_count": 3,
   "id": "e561e80b",
   "metadata": {
    "execution": {
     "iopub.execute_input": "2024-07-07T16:04:07.416249Z",
     "iopub.status.busy": "2024-07-07T16:04:07.415820Z",
     "iopub.status.idle": "2024-07-07T16:04:07.424790Z",
     "shell.execute_reply": "2024-07-07T16:04:07.423509Z"
    },
    "papermill": {
     "duration": 0.017088,
     "end_time": "2024-07-07T16:04:07.427684",
     "exception": false,
     "start_time": "2024-07-07T16:04:07.410596",
     "status": "completed"
    },
    "tags": []
   },
   "outputs": [],
   "source": [
    "# detecting outlier using Interquartile range\n",
    "\n",
    "import numpy as np\n",
    "# to calculate the percentiles\n",
    "\n",
    "def outlier_detection(data):\n",
    "    outliers = []\n",
    "    sorted_data = sorted(data)\n",
    "    sorted_data_np = np.array(sorted_data)\n",
    "    q1 = np.percentile(sorted_data_np, 25)\n",
    "    q3 = np.percentile(sorted_data_np, 75)\n",
    "    q2 = np.percentile(sorted_data_np, 50)\n",
    "    \n",
    "    IQR = q3 - q1\n",
    "    \n",
    "    upper_bound = q3 + (1.5* IQR)\n",
    "    lower_bound = q1 - (1.5*IQR)\n",
    "    \n",
    "    for data_point in sorted_data:\n",
    "        if data_point < lower_bound or data_point > upper_bound:\n",
    "            outliers.append(data_point)\n",
    "    \n",
    "    return outliers\n",
    "        "
   ]
  },
  {
   "cell_type": "code",
   "execution_count": 4,
   "id": "53a7d07c",
   "metadata": {
    "execution": {
     "iopub.execute_input": "2024-07-07T16:04:07.437227Z",
     "iopub.status.busy": "2024-07-07T16:04:07.436768Z",
     "iopub.status.idle": "2024-07-07T16:04:07.451031Z",
     "shell.execute_reply": "2024-07-07T16:04:07.449499Z"
    },
    "papermill": {
     "duration": 0.022174,
     "end_time": "2024-07-07T16:04:07.453752",
     "exception": false,
     "start_time": "2024-07-07T16:04:07.431578",
     "status": "completed"
    },
    "tags": []
   },
   "outputs": [
    {
     "data": {
      "text/plain": [
       "[123, 210, 350]"
      ]
     },
     "execution_count": 4,
     "metadata": {},
     "output_type": "execute_result"
    }
   ],
   "source": [
    "outliers_in_my_dataset = outlier_detection(data_1)\n",
    "outliers_in_my_dataset"
   ]
  },
  {
   "cell_type": "code",
   "execution_count": 5,
   "id": "662aab40",
   "metadata": {
    "execution": {
     "iopub.execute_input": "2024-07-07T16:04:07.464065Z",
     "iopub.status.busy": "2024-07-07T16:04:07.463532Z",
     "iopub.status.idle": "2024-07-07T16:04:07.471856Z",
     "shell.execute_reply": "2024-07-07T16:04:07.470602Z"
    },
    "papermill": {
     "duration": 0.017,
     "end_time": "2024-07-07T16:04:07.474702",
     "exception": false,
     "start_time": "2024-07-07T16:04:07.457702",
     "status": "completed"
    },
    "tags": []
   },
   "outputs": [],
   "source": [
    "# using z-values to calculate outliers\n",
    "# if my data point's corresponding z value lies outside of lets say the 3rd std. which in case of z table, is 3 and on the either side of the mean, so ill consider that point as an outlier.\n",
    "\n",
    "import numpy as np\n",
    "\n",
    "def outlier_detection_z(data):\n",
    "    outliers = []\n",
    "    critical_boundary = 3\n",
    "    data_np = np.array(data)\n",
    "    standard_deviation_of_data = np.std(data_np) \n",
    "    mean_of_data = np.mean(data_np)\n",
    "    for data_point in data:\n",
    "        z_value = (data_point - mean_of_data) / standard_deviation_of_data\n",
    "        if np.abs(z_value) > critical_boundary:\n",
    "            outliers.append(data_point)\n",
    "            \n",
    "    return outliers"
   ]
  },
  {
   "cell_type": "code",
   "execution_count": 6,
   "id": "a0f7086c",
   "metadata": {
    "execution": {
     "iopub.execute_input": "2024-07-07T16:04:07.484643Z",
     "iopub.status.busy": "2024-07-07T16:04:07.484212Z",
     "iopub.status.idle": "2024-07-07T16:04:07.493478Z",
     "shell.execute_reply": "2024-07-07T16:04:07.492054Z"
    },
    "papermill": {
     "duration": 0.017448,
     "end_time": "2024-07-07T16:04:07.496220",
     "exception": false,
     "start_time": "2024-07-07T16:04:07.478772",
     "status": "completed"
    },
    "tags": []
   },
   "outputs": [
    {
     "data": {
      "text/plain": [
       "[350]"
      ]
     },
     "execution_count": 6,
     "metadata": {},
     "output_type": "execute_result"
    }
   ],
   "source": [
    "outliers_in_dataset = outlier_detection_z(data_1)\n",
    "outliers_in_dataset"
   ]
  },
  {
   "cell_type": "code",
   "execution_count": null,
   "id": "63310e67",
   "metadata": {
    "papermill": {
     "duration": 0.004183,
     "end_time": "2024-07-07T16:04:07.504854",
     "exception": false,
     "start_time": "2024-07-07T16:04:07.500671",
     "status": "completed"
    },
    "tags": []
   },
   "outputs": [],
   "source": []
  }
 ],
 "metadata": {
  "kaggle": {
   "accelerator": "none",
   "dataSources": [],
   "dockerImageVersionId": 30732,
   "isGpuEnabled": false,
   "isInternetEnabled": false,
   "language": "python",
   "sourceType": "notebook"
  },
  "kernelspec": {
   "display_name": "Python 3",
   "language": "python",
   "name": "python3"
  },
  "language_info": {
   "codemirror_mode": {
    "name": "ipython",
    "version": 3
   },
   "file_extension": ".py",
   "mimetype": "text/x-python",
   "name": "python",
   "nbconvert_exporter": "python",
   "pygments_lexer": "ipython3",
   "version": "3.10.13"
  },
  "papermill": {
   "default_parameters": {},
   "duration": 5.180935,
   "end_time": "2024-07-07T16:04:08.033342",
   "environment_variables": {},
   "exception": null,
   "input_path": "__notebook__.ipynb",
   "output_path": "__notebook__.ipynb",
   "parameters": {},
   "start_time": "2024-07-07T16:04:02.852407",
   "version": "2.5.0"
  }
 },
 "nbformat": 4,
 "nbformat_minor": 5
}
